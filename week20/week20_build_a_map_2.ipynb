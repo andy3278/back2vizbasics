{
 "cells": [
  {
   "cell_type": "code",
   "execution_count": 1,
   "metadata": {},
   "outputs": [
    {
     "name": "stdout",
     "output_type": "stream",
     "text": [
      "Intel MKL WARNING: Support of Intel(R) Streaming SIMD Extensions 4.2 (Intel(R) SSE4.2) enabled only processors has been deprecated. Intel oneAPI Math Kernel Library 2025.0 will require Intel(R) Advanced Vector Extensions (Intel(R) AVX) instructions.\n",
      "Intel MKL WARNING: Support of Intel(R) Streaming SIMD Extensions 4.2 (Intel(R) SSE4.2) enabled only processors has been deprecated. Intel oneAPI Math Kernel Library 2025.0 will require Intel(R) Advanced Vector Extensions (Intel(R) AVX) instructions.\n"
     ]
    }
   ],
   "source": [
    "import pandas as pd\n",
    "import numpy as np\n",
    "import matplotlib.pyplot as plt\n",
    "import seaborn as sns\n"
   ]
  },
  {
   "cell_type": "markdown",
   "metadata": {},
   "source": [
    "## SUMMARY\n",
    "For Week 20, we would like you to build a map.\n",
    "\n",
    "Our data this week comes from InsideAirbnb and was provided by Frederic Frey for the VizIt Syndey community conference. “Inside Airbnb is a mission driven project that provides data and advocacy about Airbnb's impact on residential communities. They work towards a vision where communities are empowered with data and information to understand, decide and control the role of renting residential homes to tourists.” Please reference their site as your data source.\n",
    "\n"
   ]
  },
  {
   "cell_type": "markdown",
   "metadata": {},
   "source": [
    "Our data set contains the following fields:\n",
    "\n",
    "- id - Airbnb's unique identifier for the listing\n",
    "- name - Name of the Listing\n",
    "- host_id - Airbnb’s unique identifier for the host/user\n",
    "- host_name - Name of the host (usually just the first name)\n",
    "- neighbourhood\n",
    "- latitude\n",
    "- longitude\n",
    "- room_type - entire place, private room, shared room\n",
    "- price - daily price in local currency\n",
    "- minimum_nights - minimum number of night stay fr the listing\n",
    "- number_of_reviews - number of reviews the listing has\n",
    "- reviews_per_month - average number of review per month\n",
    "- calculated_host_listings_count - the number of listings the host has in the current scrape\n",
    "- number_of_reviews_ltm - number of review the listing has in the last 12 months"
   ]
  },
  {
   "cell_type": "code",
   "execution_count": 7,
   "metadata": {},
   "outputs": [],
   "source": [
    "# Prettymaps\n",
    "import prettymaps\n",
    "# Vsketch\n",
    "import vsketch\n",
    "# OSMNX\n",
    "import osmnx as ox\n",
    "# Matplotlib-related\n",
    "import matplotlib.font_manager as fm\n",
    "from matplotlib import pyplot as plt\n",
    "from descartes import PolygonPatch\n",
    "# Shapely\n",
    "from shapely.geometry import *\n",
    "from shapely.affinity import *\n",
    "from shapely.ops import unary_union"
   ]
  },
  {
   "cell_type": "markdown",
   "metadata": {},
   "source": [
    "# EDA - Exploratory Data Analysis"
   ]
  },
  {
   "cell_type": "code",
   "execution_count": 12,
   "metadata": {},
   "outputs": [
    {
     "name": "stdout",
     "output_type": "stream",
     "text": [
      "<class 'pandas.core.frame.DataFrame'>\n",
      "RangeIndex: 24022 entries, 0 to 24021\n",
      "Data columns (total 14 columns):\n",
      " #   Column                          Non-Null Count  Dtype  \n",
      "---  ------                          --------------  -----  \n",
      " 0   id                              24022 non-null  float64\n",
      " 1   name                            24022 non-null  object \n",
      " 2   host_id                         24022 non-null  int64  \n",
      " 3   host_name                       24020 non-null  object \n",
      " 4   neighbourhood                   24022 non-null  object \n",
      " 5   latitude                        24022 non-null  float64\n",
      " 6   longitude                       24022 non-null  float64\n",
      " 7   room_type                       24022 non-null  object \n",
      " 8   price                           24022 non-null  int64  \n",
      " 9   minimum_nights                  24022 non-null  int64  \n",
      " 10  number_of_reviews               24022 non-null  int64  \n",
      " 11  reviews_per_month               18028 non-null  float64\n",
      " 12  calculated_host_listings_count  24022 non-null  int64  \n",
      " 13  number_of_reviews_ltm           24022 non-null  int64  \n",
      "dtypes: float64(4), int64(6), object(4)\n",
      "memory usage: 2.6+ MB\n"
     ]
    }
   ],
   "source": [
    "df = pd.read_csv('../Data/Sydney Airbnb Listings.csv')\n",
    "df.info()"
   ]
  },
  {
   "cell_type": "code",
   "execution_count": null,
   "metadata": {},
   "outputs": [],
   "source": []
  }
 ],
 "metadata": {
  "kernelspec": {
   "display_name": "env_phys",
   "language": "python",
   "name": "python3"
  },
  "language_info": {
   "codemirror_mode": {
    "name": "ipython",
    "version": 3
   },
   "file_extension": ".py",
   "mimetype": "text/x-python",
   "name": "python",
   "nbconvert_exporter": "python",
   "pygments_lexer": "ipython3",
   "version": "3.10.13"
  }
 },
 "nbformat": 4,
 "nbformat_minor": 2
}
