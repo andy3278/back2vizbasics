{
 "cells": [
  {
   "cell_type": "code",
   "execution_count": 2,
   "metadata": {},
   "outputs": [],
   "source": [
    "import pandas as pd\n",
    "import numpy as np\n",
    "import matplotlib.pyplot as plt\n",
    "import seaborn as sns"
   ]
  },
  {
   "cell_type": "markdown",
   "metadata": {},
   "source": [
    "## SUMMARY\n",
    "For Week 20, we would like you to build a map.\n",
    "\n",
    "Our data this week comes from InsideAirbnb and was provided by Frederic Frey for the VizIt Syndey community conference. “Inside Airbnb is a mission driven project that provides data and advocacy about Airbnb's impact on residential communities. They work towards a vision where communities are empowered with data and information to understand, decide and control the role of renting residential homes to tourists.” Please reference their site as your data source.\n",
    "\n"
   ]
  },
  {
   "cell_type": "markdown",
   "metadata": {},
   "source": [
    "Our data set contains the following fields:\n",
    "\n",
    "- id - Airbnb's unique identifier for the listing\n",
    "- name - Name of the Listing\n",
    "- host_id - Airbnb’s unique identifier for the host/user\n",
    "- host_name - Name of the host (usually just the first name)\n",
    "- neighbourhood\n",
    "- latitude\n",
    "- longitude\n",
    "- room_type - entire place, private room, shared room\n",
    "- price - daily price in local currency\n",
    "- minimum_nights - minimum number of night stay fr the listing\n",
    "- number_of_reviews - number of reviews the listing has\n",
    "- reviews_per_month - average number of review per month\n",
    "- calculated_host_listings_count - the number of listings the host has in the current scrape\n",
    "- number_of_reviews_ltm - number of review the listing has in the last 12 months"
   ]
  },
  {
   "cell_type": "code",
   "execution_count": null,
   "metadata": {},
   "outputs": [],
   "source": []
  }
 ],
 "metadata": {
  "kernelspec": {
   "display_name": "env_phys",
   "language": "python",
   "name": "python3"
  },
  "language_info": {
   "codemirror_mode": {
    "name": "ipython",
    "version": 3
   },
   "file_extension": ".py",
   "mimetype": "text/x-python",
   "name": "python",
   "nbconvert_exporter": "python",
   "pygments_lexer": "ipython3",
   "version": "3.9.13"
  }
 },
 "nbformat": 4,
 "nbformat_minor": 2
}
